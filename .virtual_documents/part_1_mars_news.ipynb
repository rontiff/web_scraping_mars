


# Import Splinter and BeautifulSoup
from splinter import Browser
from bs4 import BeautifulSoup as soup
# from webdriver_manager.chrome import ChromeDriverManager


browser = Browser('chrome')





# Visit the Mars news site
url = 'https://static.bc-edx.com/data/web/mars_news/index.html'
browser.visit(url)





# Create a Beautiful Soup object
html = browser.html
soup = soup(html, 'html.parser')


# Extract all the text elements
news_articles_text = soup.find_all('div', class_='list_text')
news_articles_text





# Create an empty list to store the dictionaries
news_articles_list = []


# Loop through the text elements
# Extract the title and preview text from the elements
# Store each title and preview pair in a dictionary
# Add the dictionary to the list

for article in news_articles_text:
    preview = article.find('div', class_='article_teaser_body').text.strip()
    title = article.find('div', class_='content_title').text.strip()
    news_articles = {'preview': preview, 'title': title}
    news_articles_list.append(news_articles)


# Print the list to confirm success
news_articles_list


# Optionally, store the scraped data in a file (to ease sharing the data with others). To do so, export the scraped data to a JSON file.
# (Note: there will be no extra points for completing this.)

import json
with open('news_articles.json', 'w') as json_file:
    json.dump(news_articles_list, json_file)


browser.quit()
