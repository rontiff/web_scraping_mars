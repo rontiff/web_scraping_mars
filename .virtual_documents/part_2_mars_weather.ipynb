


# Import relevant libraries
from splinter import Browser
from bs4 import BeautifulSoup as soup
import matplotlib.pyplot as plt
import pandas as pd


browser = Browser('chrome')





# Visit the website
# https://static.bc-edx.com/data/web/mars_facts/temperature.html
url = "https://static.bc-edx.com/data/web/mars_facts/temperature.html"
browser.visit(url)





# Create a Beautiful Soup Object
html = browser.html
soup = soup(html, 'html.parser')


# Extract all rows of data
all_data = soup.find('table', class_='table')
all_data





# Create an empty list
all_rows_data = []
# Loop through the scraped data to create a list of rows
rows = all_data.find_all('tr')
for row in rows:
    row_data = []
    cells = row.find_all(['td', 'th'])
    for cell in cells:
        row_data.append(cell.text.strip())
    all_rows_data.append(row_data)

for i in range(5):
    print(all_rows_data[i])


# Create a Pandas DataFrame by using the list of rows and a list of the column names
mars_data = all_rows_data[1:]
columns = ['id', 'terrestrial_date', 'sol', 'ls', 'month', 'min_temp', 'pressure']
mars_df = pd.DataFrame(mars_data, columns=columns)


# Confirm DataFrame was created successfully
mars_df.head(5)





# Examine data type of each column
print(mars_df.dtypes)


# Change data types for data analysis
mars_df['terrestrial_date'] = pd.to_datetime(mars_df['terrestrial_date'])

mars_df['sol'] = mars_df['sol'].astype('int64')

mars_df['ls'] = mars_df['ls'].astype('int64')

mars_df['month'] = mars_df['month'].astype('int64')

mars_df['min_temp'] = mars_df['min_temp'].astype('float')

mars_df['pressure'] = mars_df['pressure'].astype('float')


# Confirm type changes were successful by examining data types again
print(mars_df.dtypes)





# 1. How many months are there on Mars?
Mars_months = mars_df.groupby('month')['month'].count()
Mars_months


# 2. How many Martian days' worth of data are there?
martian_days = mars_df['sol'].count()
martian_days


# 3. What is the average low temperature by month?
avg_monthly_low_temp = mars_df.groupby('month')['min_temp'].mean()
avg_monthly_low_temp


# Plot the average temperature by month
avg_month_temp.plot(kind='bar', ylabel='Temperature in Celsius')
plt.show()


# Identify the coldest and hottest months in Curiosity's location
avg_month_low_temp.sort_values().plot(kind='bar', ylabel='Temperature in Celsius')
plt.show()


# 4. Average pressure by Martian month
avg_pressure = mars_df.groupby('month')['pressure'].mean()
avg_pressure


# Plot the average pressure by month
avg_pressure.sort_values().plot(kind='bar', ylabel='Atmospheric Pressure')
plt.show()


# 5. How many terrestrial (earth) days are there in a Martian year?
plt.plot(mars_df['sol'], mars_df['min_temp'])

# x & y axis
plt.ylabel('Minimum temperature')
plt.xlabel('Number of terrestrial days')

# show plot
plt.show()














# Write the data to a CSV
mars_df.to_csv('mars_data.csv', index=False)


browser.quit()



